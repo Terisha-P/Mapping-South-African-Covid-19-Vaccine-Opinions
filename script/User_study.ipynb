{
 "cells": [
  {
   "cell_type": "markdown",
   "metadata": {},
   "source": [
    "## Mapping South African Covid-19 Vaccine Opinions "
   ]
  },
  {
   "cell_type": "markdown",
   "metadata": {},
   "source": [
    "### Method Overview\n",
    "1. Read data from survey\n",
    "2. data cleaning and preprocessing\n",
    "    - Geolocation of response\n",
    "3. Statistical Analysis\n",
    "4. Sentiment Analysis\n",
    "5. Discussion"
   ]
  },
  {
   "cell_type": "code",
   "execution_count": 1,
   "metadata": {},
   "outputs": [
    {
     "name": "stderr",
     "output_type": "stream",
     "text": [
      "C:\\Users\\teris\\AppData\\Local\\Packages\\PythonSoftwareFoundation.Python.3.9_qbz5n2kfra8p0\\LocalCache\\local-packages\\Python39\\site-packages\\tqdm\\auto.py:22: TqdmWarning: IProgress not found. Please update jupyter and ipywidgets. See https://ipywidgets.readthedocs.io/en/stable/user_install.html\n",
      "  from .autonotebook import tqdm as notebook_tqdm\n"
     ]
    }
   ],
   "source": [
    "## Import libraries and packages\n",
    "import snscrape.modules.twitter as sntwitter\n",
    "import pandas as pd\n",
    "import numpy as np\n",
    "import geopandas as gpd\n",
    "\n",
    "import re\n",
    "import string\n",
    "import matplotlib.pyplot as plt\n",
    "import nltk\n",
    "from nltk import word_tokenize,sent_tokenize\n",
    "import nltk.corpus\n",
    "from nltk.corpus import stopwords\n",
    "import neattext.functions as nfx\n",
    "from pandasql import sqldf\n",
    "import seaborn as sns\n",
    "from datetime import datetime\n",
    "import openpyxl\n",
    "from textblob import TextBlob\n",
    "from transformers import AutoModelForSequenceClassification\n",
    "from transformers import TFAutoModelForSequenceClassification\n",
    "from transformers import AutoTokenizer, AutoConfig\n",
    "from scipy.special import softmax\n"
   ]
  },
  {
   "cell_type": "code",
   "execution_count": 19,
   "metadata": {},
   "outputs": [],
   "source": [
    "# read data \n",
    "survey_df = pd.read_csv('Data/Survey_Responses.csv',sep=\",\")\n",
    "prolific_df = pd.read_csv('Data/Prolific_Responses.csv',sep=\",\")"
   ]
  },
  {
   "cell_type": "markdown",
   "metadata": {},
   "source": [
    "### Data Cleaning and Preprocessing \n",
    "Clean Data\n",
    "* The data exported from Qualitrics has the headers in row 2 and the data starts in row 3\n"
   ]
  },
  {
   "cell_type": "code",
   "execution_count": 3,
   "metadata": {},
   "outputs": [
    {
     "data": {
      "text/html": [
       "<div>\n",
       "<style scoped>\n",
       "    .dataframe tbody tr th:only-of-type {\n",
       "        vertical-align: middle;\n",
       "    }\n",
       "\n",
       "    .dataframe tbody tr th {\n",
       "        vertical-align: top;\n",
       "    }\n",
       "\n",
       "    .dataframe thead th {\n",
       "        text-align: right;\n",
       "    }\n",
       "</style>\n",
       "<table border=\"1\" class=\"dataframe\">\n",
       "  <thead>\n",
       "    <tr style=\"text-align: right;\">\n",
       "      <th></th>\n",
       "      <th>Start Date</th>\n",
       "      <th>End Date</th>\n",
       "      <th>Response Type</th>\n",
       "      <th>IP Address</th>\n",
       "      <th>Progress</th>\n",
       "      <th>Duration (in seconds)</th>\n",
       "      <th>Finished</th>\n",
       "      <th>Recorded Date</th>\n",
       "      <th>Response ID</th>\n",
       "      <th>Recipient Last Name</th>\n",
       "      <th>...</th>\n",
       "      <th>Do you know more people who have taken the vaccine or more people that have not taken the vaccine?</th>\n",
       "      <th>What is your main source of trusted news and/or information? - Selected Choice - News channels, eg. eNCA</th>\n",
       "      <th>What is your main source of trusted news and/or information? - Selected Choice - Newspapers</th>\n",
       "      <th>What is your main source of trusted news and/or information? - Selected Choice - YouTube</th>\n",
       "      <th>What is your main source of trusted news and/or information? - Selected Choice - Facebook or other social media</th>\n",
       "      <th>What is your main source of trusted news and/or information? - Selected Choice - Government</th>\n",
       "      <th>What is your main source of trusted news and/or information? - Selected Choice - Scientific research papers</th>\n",
       "      <th>What is your main source of trusted news and/or information? - Selected Choice - Other</th>\n",
       "      <th>What is your main source of trusted news and/or information? - Other - Text</th>\n",
       "      <th>Comments</th>\n",
       "    </tr>\n",
       "  </thead>\n",
       "  <tbody>\n",
       "    <tr>\n",
       "      <th>2</th>\n",
       "      <td>2022-06-07 10:55:18</td>\n",
       "      <td>2022-06-07 10:57:39</td>\n",
       "      <td>IP Address</td>\n",
       "      <td>137.215.99.2</td>\n",
       "      <td>100</td>\n",
       "      <td>141</td>\n",
       "      <td>True</td>\n",
       "      <td>2022-06-07 10:57:40</td>\n",
       "      <td>R_yseNcThgGNVwT73</td>\n",
       "      <td>NaN</td>\n",
       "      <td>...</td>\n",
       "      <td>More people who have been vaccinated</td>\n",
       "      <td>News channels, eg. eNCA</td>\n",
       "      <td>NaN</td>\n",
       "      <td>NaN</td>\n",
       "      <td>Facebook or other social media</td>\n",
       "      <td>Government</td>\n",
       "      <td>NaN</td>\n",
       "      <td>NaN</td>\n",
       "      <td>NaN</td>\n",
       "      <td>NaN</td>\n",
       "    </tr>\n",
       "    <tr>\n",
       "      <th>3</th>\n",
       "      <td>2022-06-07 10:59:28</td>\n",
       "      <td>2022-06-07 11:01:49</td>\n",
       "      <td>IP Address</td>\n",
       "      <td>85.104.55.182</td>\n",
       "      <td>100</td>\n",
       "      <td>140</td>\n",
       "      <td>True</td>\n",
       "      <td>2022-06-07 11:01:49</td>\n",
       "      <td>R_2ypzw38J2XQjvwL</td>\n",
       "      <td>NaN</td>\n",
       "      <td>...</td>\n",
       "      <td>More people who have been vaccinated</td>\n",
       "      <td>NaN</td>\n",
       "      <td>NaN</td>\n",
       "      <td>NaN</td>\n",
       "      <td>NaN</td>\n",
       "      <td>NaN</td>\n",
       "      <td>Scientific research papers</td>\n",
       "      <td>NaN</td>\n",
       "      <td>NaN</td>\n",
       "      <td>NaN</td>\n",
       "    </tr>\n",
       "    <tr>\n",
       "      <th>4</th>\n",
       "      <td>2022-06-07 10:59:23</td>\n",
       "      <td>2022-06-07 11:02:05</td>\n",
       "      <td>IP Address</td>\n",
       "      <td>105.186.249.163</td>\n",
       "      <td>100</td>\n",
       "      <td>162</td>\n",
       "      <td>True</td>\n",
       "      <td>2022-06-07 11:02:06</td>\n",
       "      <td>R_10DxZI4X9906ne7</td>\n",
       "      <td>NaN</td>\n",
       "      <td>...</td>\n",
       "      <td>More people who have been vaccinated</td>\n",
       "      <td>News channels, eg. eNCA</td>\n",
       "      <td>Newspapers</td>\n",
       "      <td>NaN</td>\n",
       "      <td>Facebook or other social media</td>\n",
       "      <td>NaN</td>\n",
       "      <td>Scientific research papers</td>\n",
       "      <td>NaN</td>\n",
       "      <td>NaN</td>\n",
       "      <td>NaN</td>\n",
       "    </tr>\n",
       "    <tr>\n",
       "      <th>5</th>\n",
       "      <td>2022-06-07 11:04:09</td>\n",
       "      <td>2022-06-07 11:06:17</td>\n",
       "      <td>IP Address</td>\n",
       "      <td>105.213.179.249</td>\n",
       "      <td>100</td>\n",
       "      <td>128</td>\n",
       "      <td>True</td>\n",
       "      <td>2022-06-07 11:06:17</td>\n",
       "      <td>R_3MAqPKaRYkZPDNX</td>\n",
       "      <td>NaN</td>\n",
       "      <td>...</td>\n",
       "      <td>More people who have not been vaccinated</td>\n",
       "      <td>NaN</td>\n",
       "      <td>NaN</td>\n",
       "      <td>NaN</td>\n",
       "      <td>NaN</td>\n",
       "      <td>NaN</td>\n",
       "      <td>NaN</td>\n",
       "      <td>Other</td>\n",
       "      <td>none.</td>\n",
       "      <td>NaN</td>\n",
       "    </tr>\n",
       "    <tr>\n",
       "      <th>6</th>\n",
       "      <td>2022-06-07 11:05:23</td>\n",
       "      <td>2022-06-07 11:08:24</td>\n",
       "      <td>IP Address</td>\n",
       "      <td>41.198.134.163</td>\n",
       "      <td>100</td>\n",
       "      <td>180</td>\n",
       "      <td>True</td>\n",
       "      <td>2022-06-07 11:08:24</td>\n",
       "      <td>R_3Rn49K8zsssarq7</td>\n",
       "      <td>NaN</td>\n",
       "      <td>...</td>\n",
       "      <td>More people who have been vaccinated</td>\n",
       "      <td>News channels, eg. eNCA</td>\n",
       "      <td>NaN</td>\n",
       "      <td>YouTube</td>\n",
       "      <td>NaN</td>\n",
       "      <td>NaN</td>\n",
       "      <td>Scientific research papers</td>\n",
       "      <td>Other</td>\n",
       "      <td>My lecturers from Anatomy, physiology, etc</td>\n",
       "      <td>NaN</td>\n",
       "    </tr>\n",
       "    <tr>\n",
       "      <th>...</th>\n",
       "      <td>...</td>\n",
       "      <td>...</td>\n",
       "      <td>...</td>\n",
       "      <td>...</td>\n",
       "      <td>...</td>\n",
       "      <td>...</td>\n",
       "      <td>...</td>\n",
       "      <td>...</td>\n",
       "      <td>...</td>\n",
       "      <td>...</td>\n",
       "      <td>...</td>\n",
       "      <td>...</td>\n",
       "      <td>...</td>\n",
       "      <td>...</td>\n",
       "      <td>...</td>\n",
       "      <td>...</td>\n",
       "      <td>...</td>\n",
       "      <td>...</td>\n",
       "      <td>...</td>\n",
       "      <td>...</td>\n",
       "      <td>...</td>\n",
       "    </tr>\n",
       "    <tr>\n",
       "      <th>339</th>\n",
       "      <td>2022-06-26 23:06:29</td>\n",
       "      <td>2022-06-26 23:13:02</td>\n",
       "      <td>IP Address</td>\n",
       "      <td>41.198.134.163</td>\n",
       "      <td>100</td>\n",
       "      <td>393</td>\n",
       "      <td>True</td>\n",
       "      <td>2022-06-26 23:13:03</td>\n",
       "      <td>R_3kiX3UhbjtMZiiC</td>\n",
       "      <td>NaN</td>\n",
       "      <td>...</td>\n",
       "      <td>More people who have been vaccinated</td>\n",
       "      <td>NaN</td>\n",
       "      <td>NaN</td>\n",
       "      <td>YouTube</td>\n",
       "      <td>Facebook or other social media</td>\n",
       "      <td>NaN</td>\n",
       "      <td>NaN</td>\n",
       "      <td>NaN</td>\n",
       "      <td>NaN</td>\n",
       "      <td>NaN</td>\n",
       "    </tr>\n",
       "    <tr>\n",
       "      <th>340</th>\n",
       "      <td>2022-06-21 20:59:17</td>\n",
       "      <td>2022-06-21 20:59:39</td>\n",
       "      <td>IP Address</td>\n",
       "      <td>209.203.22.31</td>\n",
       "      <td>8</td>\n",
       "      <td>21</td>\n",
       "      <td>False</td>\n",
       "      <td>2022-06-28 08:53:43</td>\n",
       "      <td>R_3nH6dhWXgLvZ7oD</td>\n",
       "      <td>NaN</td>\n",
       "      <td>...</td>\n",
       "      <td>NaN</td>\n",
       "      <td>NaN</td>\n",
       "      <td>NaN</td>\n",
       "      <td>NaN</td>\n",
       "      <td>NaN</td>\n",
       "      <td>NaN</td>\n",
       "      <td>NaN</td>\n",
       "      <td>NaN</td>\n",
       "      <td>NaN</td>\n",
       "      <td>NaN</td>\n",
       "    </tr>\n",
       "    <tr>\n",
       "      <th>341</th>\n",
       "      <td>2022-06-21 10:29:42</td>\n",
       "      <td>2022-06-21 10:49:25</td>\n",
       "      <td>IP Address</td>\n",
       "      <td>41.114.1.169</td>\n",
       "      <td>58</td>\n",
       "      <td>1183</td>\n",
       "      <td>False</td>\n",
       "      <td>2022-06-28 08:53:46</td>\n",
       "      <td>R_1IT2r7sd8yyMNB0</td>\n",
       "      <td>NaN</td>\n",
       "      <td>...</td>\n",
       "      <td>NaN</td>\n",
       "      <td>NaN</td>\n",
       "      <td>NaN</td>\n",
       "      <td>NaN</td>\n",
       "      <td>NaN</td>\n",
       "      <td>NaN</td>\n",
       "      <td>NaN</td>\n",
       "      <td>NaN</td>\n",
       "      <td>NaN</td>\n",
       "      <td>NaN</td>\n",
       "    </tr>\n",
       "    <tr>\n",
       "      <th>342</th>\n",
       "      <td>2022-06-21 10:39:44</td>\n",
       "      <td>2022-06-21 10:43:08</td>\n",
       "      <td>IP Address</td>\n",
       "      <td>196.41.10.34</td>\n",
       "      <td>88</td>\n",
       "      <td>204</td>\n",
       "      <td>False</td>\n",
       "      <td>2022-06-28 08:53:48</td>\n",
       "      <td>R_12EfL2ISf755elz</td>\n",
       "      <td>NaN</td>\n",
       "      <td>...</td>\n",
       "      <td>More people who have been vaccinated</td>\n",
       "      <td>NaN</td>\n",
       "      <td>NaN</td>\n",
       "      <td>NaN</td>\n",
       "      <td>NaN</td>\n",
       "      <td>NaN</td>\n",
       "      <td>NaN</td>\n",
       "      <td>Other</td>\n",
       "      <td>All forms of media</td>\n",
       "      <td>NaN</td>\n",
       "    </tr>\n",
       "    <tr>\n",
       "      <th>343</th>\n",
       "      <td>2022-06-21 11:44:14</td>\n",
       "      <td>2022-06-21 11:45:22</td>\n",
       "      <td>IP Address</td>\n",
       "      <td>102.132.49.47</td>\n",
       "      <td>8</td>\n",
       "      <td>67</td>\n",
       "      <td>False</td>\n",
       "      <td>2022-06-28 08:53:50</td>\n",
       "      <td>R_2afU6GAJ6HSZQpV</td>\n",
       "      <td>NaN</td>\n",
       "      <td>...</td>\n",
       "      <td>NaN</td>\n",
       "      <td>NaN</td>\n",
       "      <td>NaN</td>\n",
       "      <td>NaN</td>\n",
       "      <td>NaN</td>\n",
       "      <td>NaN</td>\n",
       "      <td>NaN</td>\n",
       "      <td>NaN</td>\n",
       "      <td>NaN</td>\n",
       "      <td>NaN</td>\n",
       "    </tr>\n",
       "  </tbody>\n",
       "</table>\n",
       "<p>342 rows × 54 columns</p>\n",
       "</div>"
      ],
      "text/plain": [
       "0             Start Date             End Date Response Type       IP Address  \\\n",
       "2    2022-06-07 10:55:18  2022-06-07 10:57:39    IP Address     137.215.99.2   \n",
       "3    2022-06-07 10:59:28  2022-06-07 11:01:49    IP Address    85.104.55.182   \n",
       "4    2022-06-07 10:59:23  2022-06-07 11:02:05    IP Address  105.186.249.163   \n",
       "5    2022-06-07 11:04:09  2022-06-07 11:06:17    IP Address  105.213.179.249   \n",
       "6    2022-06-07 11:05:23  2022-06-07 11:08:24    IP Address   41.198.134.163   \n",
       "..                   ...                  ...           ...              ...   \n",
       "339  2022-06-26 23:06:29  2022-06-26 23:13:02    IP Address   41.198.134.163   \n",
       "340  2022-06-21 20:59:17  2022-06-21 20:59:39    IP Address    209.203.22.31   \n",
       "341  2022-06-21 10:29:42  2022-06-21 10:49:25    IP Address     41.114.1.169   \n",
       "342  2022-06-21 10:39:44  2022-06-21 10:43:08    IP Address     196.41.10.34   \n",
       "343  2022-06-21 11:44:14  2022-06-21 11:45:22    IP Address    102.132.49.47   \n",
       "\n",
       "0   Progress Duration (in seconds) Finished        Recorded Date  \\\n",
       "2        100                   141     True  2022-06-07 10:57:40   \n",
       "3        100                   140     True  2022-06-07 11:01:49   \n",
       "4        100                   162     True  2022-06-07 11:02:06   \n",
       "5        100                   128     True  2022-06-07 11:06:17   \n",
       "6        100                   180     True  2022-06-07 11:08:24   \n",
       "..       ...                   ...      ...                  ...   \n",
       "339      100                   393     True  2022-06-26 23:13:03   \n",
       "340        8                    21    False  2022-06-28 08:53:43   \n",
       "341       58                  1183    False  2022-06-28 08:53:46   \n",
       "342       88                   204    False  2022-06-28 08:53:48   \n",
       "343        8                    67    False  2022-06-28 08:53:50   \n",
       "\n",
       "0          Response ID Recipient Last Name  ...  \\\n",
       "2    R_yseNcThgGNVwT73                 NaN  ...   \n",
       "3    R_2ypzw38J2XQjvwL                 NaN  ...   \n",
       "4    R_10DxZI4X9906ne7                 NaN  ...   \n",
       "5    R_3MAqPKaRYkZPDNX                 NaN  ...   \n",
       "6    R_3Rn49K8zsssarq7                 NaN  ...   \n",
       "..                 ...                 ...  ...   \n",
       "339  R_3kiX3UhbjtMZiiC                 NaN  ...   \n",
       "340  R_3nH6dhWXgLvZ7oD                 NaN  ...   \n",
       "341  R_1IT2r7sd8yyMNB0                 NaN  ...   \n",
       "342  R_12EfL2ISf755elz                 NaN  ...   \n",
       "343  R_2afU6GAJ6HSZQpV                 NaN  ...   \n",
       "\n",
       "0   Do you know more people who have taken the vaccine or more people that have not taken the vaccine?  \\\n",
       "2                 More people who have been vaccinated                                                   \n",
       "3                 More people who have been vaccinated                                                   \n",
       "4                 More people who have been vaccinated                                                   \n",
       "5             More people who have not been vaccinated                                                   \n",
       "6                 More people who have been vaccinated                                                   \n",
       "..                                                 ...                                                   \n",
       "339               More people who have been vaccinated                                                   \n",
       "340                                                NaN                                                   \n",
       "341                                                NaN                                                   \n",
       "342               More people who have been vaccinated                                                   \n",
       "343                                                NaN                                                   \n",
       "\n",
       "0   What is your main source of trusted news and/or information? - Selected Choice - News channels, eg. eNCA  \\\n",
       "2                              News channels, eg. eNCA                                                         \n",
       "3                                                  NaN                                                         \n",
       "4                              News channels, eg. eNCA                                                         \n",
       "5                                                  NaN                                                         \n",
       "6                              News channels, eg. eNCA                                                         \n",
       "..                                                 ...                                                         \n",
       "339                                                NaN                                                         \n",
       "340                                                NaN                                                         \n",
       "341                                                NaN                                                         \n",
       "342                                                NaN                                                         \n",
       "343                                                NaN                                                         \n",
       "\n",
       "0   What is your main source of trusted news and/or information? - Selected Choice - Newspapers  \\\n",
       "2                                                  NaN                                            \n",
       "3                                                  NaN                                            \n",
       "4                                           Newspapers                                            \n",
       "5                                                  NaN                                            \n",
       "6                                                  NaN                                            \n",
       "..                                                 ...                                            \n",
       "339                                                NaN                                            \n",
       "340                                                NaN                                            \n",
       "341                                                NaN                                            \n",
       "342                                                NaN                                            \n",
       "343                                                NaN                                            \n",
       "\n",
       "0   What is your main source of trusted news and/or information? - Selected Choice - YouTube  \\\n",
       "2                                                  NaN                                         \n",
       "3                                                  NaN                                         \n",
       "4                                                  NaN                                         \n",
       "5                                                  NaN                                         \n",
       "6                                              YouTube                                         \n",
       "..                                                 ...                                         \n",
       "339                                            YouTube                                         \n",
       "340                                                NaN                                         \n",
       "341                                                NaN                                         \n",
       "342                                                NaN                                         \n",
       "343                                                NaN                                         \n",
       "\n",
       "0   What is your main source of trusted news and/or information? - Selected Choice - Facebook or other social media  \\\n",
       "2                       Facebook or other social media                                                                \n",
       "3                                                  NaN                                                                \n",
       "4                       Facebook or other social media                                                                \n",
       "5                                                  NaN                                                                \n",
       "6                                                  NaN                                                                \n",
       "..                                                 ...                                                                \n",
       "339                     Facebook or other social media                                                                \n",
       "340                                                NaN                                                                \n",
       "341                                                NaN                                                                \n",
       "342                                                NaN                                                                \n",
       "343                                                NaN                                                                \n",
       "\n",
       "0   What is your main source of trusted news and/or information? - Selected Choice - Government  \\\n",
       "2                                           Government                                            \n",
       "3                                                  NaN                                            \n",
       "4                                                  NaN                                            \n",
       "5                                                  NaN                                            \n",
       "6                                                  NaN                                            \n",
       "..                                                 ...                                            \n",
       "339                                                NaN                                            \n",
       "340                                                NaN                                            \n",
       "341                                                NaN                                            \n",
       "342                                                NaN                                            \n",
       "343                                                NaN                                            \n",
       "\n",
       "0   What is your main source of trusted news and/or information? - Selected Choice - Scientific research papers  \\\n",
       "2                                                  NaN                                                            \n",
       "3                           Scientific research papers                                                            \n",
       "4                           Scientific research papers                                                            \n",
       "5                                                  NaN                                                            \n",
       "6                           Scientific research papers                                                            \n",
       "..                                                 ...                                                            \n",
       "339                                                NaN                                                            \n",
       "340                                                NaN                                                            \n",
       "341                                                NaN                                                            \n",
       "342                                                NaN                                                            \n",
       "343                                                NaN                                                            \n",
       "\n",
       "0   What is your main source of trusted news and/or information? - Selected Choice - Other  \\\n",
       "2                                                  NaN                                       \n",
       "3                                                  NaN                                       \n",
       "4                                                  NaN                                       \n",
       "5                                                Other                                       \n",
       "6                                                Other                                       \n",
       "..                                                 ...                                       \n",
       "339                                                NaN                                       \n",
       "340                                                NaN                                       \n",
       "341                                                NaN                                       \n",
       "342                                              Other                                       \n",
       "343                                                NaN                                       \n",
       "\n",
       "0   What is your main source of trusted news and/or information? - Other - Text  \\\n",
       "2                                                  NaN                            \n",
       "3                                                  NaN                            \n",
       "4                                                  NaN                            \n",
       "5                                               none.                             \n",
       "6           My lecturers from Anatomy, physiology, etc                            \n",
       "..                                                 ...                            \n",
       "339                                                NaN                            \n",
       "340                                                NaN                            \n",
       "341                                                NaN                            \n",
       "342                                 All forms of media                            \n",
       "343                                                NaN                            \n",
       "\n",
       "0   Comments  \n",
       "2        NaN  \n",
       "3        NaN  \n",
       "4        NaN  \n",
       "5        NaN  \n",
       "6        NaN  \n",
       "..       ...  \n",
       "339      NaN  \n",
       "340      NaN  \n",
       "341      NaN  \n",
       "342      NaN  \n",
       "343      NaN  \n",
       "\n",
       "[342 rows x 54 columns]"
      ]
     },
     "execution_count": 3,
     "metadata": {},
     "output_type": "execute_result"
    }
   ],
   "source": [
    "# Replace headers\n",
    "new_header = prolific_df.iloc[0] #first row for the header\n",
    "prolific_df = prolific_df[1:] #data less the header row\n",
    "prolific_df.columns = new_header #set the header row as the df header\n",
    "prolific_df = prolific_df[1:] #data less the header row\n",
    "prolific_df\n",
    "new_header = survey_df.iloc[0] #first row for the header\n",
    "survey_df = survey_df[1:] # data less the header row\n",
    "survey_df.columns = new_header #set the header row as the df header\n",
    "survey_df = survey_df[1:] #data less the header row\n",
    "survey_df"
   ]
  },
  {
   "cell_type": "markdown",
   "metadata": {},
   "source": [
    "Not all responses can be used, remove those that could not be used. \n",
    "Responses that are were removed included:\n",
    "- survey type of 'Survey Preview'\n",
    "- those who did not agree to the survey\n",
    "- not finished"
   ]
  },
  {
   "cell_type": "code",
   "execution_count": 4,
   "metadata": {},
   "outputs": [],
   "source": [
    "# Drop rows with survey previews\n",
    "survey_df = survey_df.drop(survey_df.index[survey_df['Response Type'] == \"Survey Preview\"])\n",
    "prolific_df = prolific_df.drop(prolific_df.index[prolific_df['Response Type'] == \"Survey Preview\"])\n",
    "# reset index\n",
    "survey_df = survey_df.reset_index().drop(columns=['index'])\n",
    "prolific_df = prolific_df.reset_index().drop(columns=['index'])\n"
   ]
  },
  {
   "cell_type": "code",
   "execution_count": 5,
   "metadata": {},
   "outputs": [],
   "source": [
    "# Drop rows which participants did not consent to the survey\n",
    "survey_df = survey_df.drop(survey_df.index[survey_df['Do you agree to participate in this survey?'] != \"Agree\"])\n",
    "prolific_df = prolific_df.drop(prolific_df.index[prolific_df['Do you agree to participate in this survey?'] != \"Agree\"])\n",
    "\n",
    "# reset index\n",
    "survey_df = survey_df.reset_index().drop(columns=['index'])\n",
    "prolific_df = prolific_df.reset_index().drop(columns=['index'])"
   ]
  },
  {
   "cell_type": "code",
   "execution_count": 6,
   "metadata": {},
   "outputs": [],
   "source": [
    "#drop rows that were incompleted\n",
    "survey_df = survey_df.drop(survey_df.index[survey_df['Finished'] != \"True\"])\n",
    "prolific_df = prolific_df.drop(prolific_df.index[prolific_df['Finished'] != \"True\"])\n",
    "\n",
    "# reset index\n",
    "survey_df = survey_df.reset_index().drop(columns=['index'])\n",
    "prolific_df = prolific_df.reset_index().drop(columns=['index'])"
   ]
  },
  {
   "cell_type": "code",
   "execution_count": 7,
   "metadata": {},
   "outputs": [],
   "source": [
    "#drop rows that participants said that did not have a South African nationality\n",
    "survey_df = survey_df.drop(survey_df.index[survey_df['What is your Nationality? - Selected Choice'] != \"South Africa\"])\n",
    "prolific_df = prolific_df.drop(prolific_df.index[prolific_df['What is your Nationality? - Selected Choice'] != \"South Africa\"])\n",
    "prolific_df = prolific_df.reset_index().drop(columns=['index'])\n",
    "survey_df = survey_df.reset_index().drop(columns=['index'])\n"
   ]
  },
  {
   "cell_type": "code",
   "execution_count": 8,
   "metadata": {},
   "outputs": [],
   "source": [
    "# drop rows whcih have people who don't live in South Africa\n",
    "prolific_df = prolific_df.drop(prolific_df.index[prolific_df['Do you currently reside in South Africa?'] == \"No\"])\n",
    "prolific_df = prolific_df.reset_index().drop(columns=['index'])\n"
   ]
  },
  {
   "cell_type": "markdown",
   "metadata": {},
   "source": [
    "Merge data "
   ]
  },
  {
   "cell_type": "code",
   "execution_count": 9,
   "metadata": {},
   "outputs": [],
   "source": [
    "frames = [survey_df, prolific_df]\n",
    "df = pd.concat(frames)"
   ]
  },
  {
   "cell_type": "code",
   "execution_count": 10,
   "metadata": {},
   "outputs": [],
   "source": [
    "# Drop columns \n",
    "df = df.drop(columns=['Start Date', 'End Date',  'IP Address', 'Progress',\n",
    "       'Duration (in seconds)',  'Response ID',\n",
    "       'Recipient Last Name', 'Recipient First Name', 'Recipient Email',\n",
    "       'External Data Reference', \n",
    "       'Distribution Channel','User Language',\n",
    "       'What is your Prolific ID?\\n\\nPlease note that this response should auto-fill with the correct ID',\n",
    "       'PROLIFIC_PID'\n",
    "])\n",
    "# reset index\n",
    "df = df.reset_index().drop(columns=['index'])\n"
   ]
  },
  {
   "cell_type": "markdown",
   "metadata": {},
   "source": [
    "#### Geolocate responses\n",
    "Preprocess location information"
   ]
  },
  {
   "cell_type": "code",
   "execution_count": 11,
   "metadata": {},
   "outputs": [],
   "source": [
    "df['Origin'] = df['Which city/town are you originally from?'].str.lower()\n",
    "df['Current'] = df['Which city/town do you currently live in?'].str.lower()\n",
    "df['Origin'] = df['Origin'].str.title()\n",
    "df['Current'] = df['Current'].str.title()\n",
    "df['Origin'] = df['Origin'].str.strip()\n",
    "df['Current'] = df['Current'].str.strip()\n",
    "df['Origin'] = df['Origin'].astype(str) + ',South Africa'\n",
    "df['Current'] = df['Current'].astype(str) + ',South Africa'"
   ]
  },
  {
   "cell_type": "code",
   "execution_count": 12,
   "metadata": {},
   "outputs": [],
   "source": [
    "#### Repair locations\n",
    "\n",
    "df[\"Current\"] = df[\"Current\"].replace(['Vanderbiljpark,South Africa'],'Vanderbijlpark,South Africa')\n",
    "df[\"Current\"] = df[\"Current\"].replace(['Rusternburg,South Africa'],'Rustenburg,South Africa')\n",
    "df[\"Current\"] = df[\"Current\"].replace([\"Richard'S Bay,South Africa\"],'Richards Bay,South Africa')\n",
    "df[\"Current\"] = df[\"Current\"].replace([\"Pta,South Africa\"],'Pretoria,South Africa')\n",
    "df[\"Current\"] = df[\"Current\"].replace([\"Pre.Toria,South Africa\"],'Pretoria,South Africa')\n",
    "df[\"Current\"] = df[\"Current\"].replace([\"Mafikeng,South Africa\"],'Mahikeng,South Africa')\n",
    "df[\"Current\"] = df[\"Current\"].replace([\"Johannesburg South,South Africa\"],'Johannesburg,South Africa')\n",
    "df[\"Current\"] = df[\"Current\"].replace([\"Johanessburg,South Africa\"],'Johannesburg,South Africa')\n",
    "df[\"Current\"] = df[\"Current\"].replace([\"Joburg South,South Africa\"],'Johannesburg,South Africa')\n",
    "df[\"Current\"] = df[\"Current\"].replace([\"Jhb/Northcliff,South Africa\"],'Johannesburg,South Africa')\n",
    "df[\"Current\"] = df[\"Current\"].replace([\"Johanessberg South,South Africa\"],'Johannesburg,South Africa')\n",
    "df[\"Current\"] = df[\"Current\"].replace([\"Hatfirld,South Africa\"],'Hatfield,South Africa')\n",
    "df[\"Current\"] = df[\"Current\"].replace([\"Ekurhulen,South Africa\"],'Ekurhuleni,South Africa')\n",
    "df[\"Current\"] = df[\"Current\"].replace([\"Cape  Town,South Africa\"],'Cape Town,South Africa')\n",
    "df[\"Current\"] = df[\"Current\"].replace([\"Johanessburg,South Africa\"],'Johannesburg,South Africa')\n",
    "df[\"Current\"] = df[\"Current\"].replace([\"Capetown,South Africa\"],'Cape Town,South Africa')\n",
    "df[\"Current\"] = df[\"Current\"].replace([\"Hamanskraal,South Africa\"],'Hammanskraal,South Africa')\n",
    "df[\"Current\"] = df[\"Current\"].replace([\"Johburg,South Africa\"],'Johannesburg,South Africa')\n",
    "df[\"Current\"] = df[\"Current\"].replace(['Pe,South Africa'],'Port Elizabeth,South Africa')\n",
    "df[\"Current\"] = df[\"Current\"].replace(['Johanessberg,South Africa'],'Johannesburg,South Africa')\n",
    "\n",
    "df[\"Origin\"] = df[\"Origin\"].replace([\"Johannesburg South,South Africa\"],'Johannesburg,South Africa')\n",
    "df[\"Origin\"] = df[\"Origin\"].replace(['As Above,South Africa'],'Vanderbijlpark,South Africa')\n",
    "df[\"Origin\"] = df[\"Origin\"].replace(['Pietermaritzburb,South Africa'],'Pietermaritzburg,South Africa')\n",
    "df[\"Origin\"] = df[\"Origin\"].replace([\"Mount Frere,South Africa\"],'KwaBhaca,South Africa')\n",
    "df[\"Origin\"] = df[\"Origin\"].replace([\"Koue Bokkeveld,South Africa\"],'Bokkeveld,South Africa')\n",
    "df[\"Origin\"] = df[\"Origin\"].replace([\"Rusternburg,South Africa\"],'Rustenburg,South Africa')\n",
    "df[\"Origin\"] = df[\"Origin\"].replace([\"Roodpoort,South Africa\"],'Roodepoort,South Africa')\n",
    "df[\"Origin\"] = df[\"Origin\"].replace([\"Johanessberg,South Africa\"],'Johannesburg,South Africa')\n",
    "df[\"Origin\"] = df[\"Origin\"].replace([\"Thohoyoandou,South Africa\"],'Thohoyandou,South Africa')\n",
    "df[\"Origin\"] = df[\"Origin\"].replace([\"Emzinto,South Africa\"],'Umzinto,South Africa')\n",
    "df[\"Origin\"] = df[\"Origin\"].replace([\"Venda,South Africa\"],'Limpopo,South Africa')\n",
    "df[\"Origin\"] = df[\"Origin\"].replace([\"Venda,South Africa\"],'Limpopo,South Africa')\n",
    "df[\"Origin\"] = df[\"Origin\"].replace(['Pe,South Africa'],'Port Elizabeth,South Africa')\n",
    "df[\"Origin\"] = df[\"Origin\"].replace([\"Saselamani,South Africa\"],'Malamulele,South Africa')\n"
   ]
  },
  {
   "cell_type": "markdown",
   "metadata": {},
   "source": [
    "### Geolocation using Nominatim"
   ]
  },
  {
   "cell_type": "code",
   "execution_count": 15,
   "metadata": {},
   "outputs": [],
   "source": [
    "import geopandas as gpd\n",
    "from shapely.geometry import Point\n",
    "from geopandas import GeoDataFrame\n",
    "mapbox_token ='pk.eyJ1IjoiY3Jhenl0ZXJpIiwiYSI6ImNsNHM2N2Z3aDBkNHczZG82MGVramJvY2oifQ.Re9w4pfsIMc_UPA4k1rs3w'\n",
    "import plotly.express as px\n",
    "from geopy.geocoders import Nominatim\n",
    "geolocator = Nominatim(user_agent=\"geoapiExercises\")\n",
    "from geopy.exc import GeocoderTimedOut"
   ]
  },
  {
   "cell_type": "code",
   "execution_count": 16,
   "metadata": {},
   "outputs": [],
   "source": [
    "# Origin \n",
    "import time\n",
    "geolocator = Nominatim(user_agent=\"geoapiExercises\", timeout= time.sleep(1.1))\n",
    "    \n",
    "count = 0\n",
    "df['Olat'] =''\n",
    "df['Olng'] = ''\n",
    "for row in df['Origin']:\n",
    "    # print(row)\n",
    "    location = geolocator.geocode(row)\n",
    "    if location is None:\n",
    "        df['Olat'][count] = '0'\n",
    "        df['Olng'][count] = '0'\n",
    "    else:\n",
    "        df['Olat'][count] = location.latitude\n",
    "        df['Olng'][count] = location.longitude\n",
    "    count += 1\n"
   ]
  },
  {
   "cell_type": "code",
   "execution_count": 17,
   "metadata": {},
   "outputs": [],
   "source": [
    "# Current\n",
    "count = 0\n",
    "df['Clat'] =''\n",
    "df['Clng'] = ''\n",
    "for row in df['Current']:\n",
    "    # print(row)\n",
    "    location = geolocator.geocode(row)\n",
    "    if location is None:\n",
    "        df['Clat'][count] = '0'\n",
    "        df['Clng'][count] = '0'\n",
    "    else:\n",
    "        df['Clat'][count] = location.latitude\n",
    "        df['Clng'][count] = location.longitude\n",
    "    count += 1"
   ]
  },
  {
   "cell_type": "code",
   "execution_count": null,
   "metadata": {},
   "outputs": [],
   "source": [
    "# convert lat/lon to floats\n",
    "df.Clng = df.Clng.astype('float')\n",
    "df.Clat = df.Clat.astype('float')\n",
    "df.Olng = df.Olng.astype('float')\n",
    "df.Olat = df.Olat.astype('float')"
   ]
  },
  {
   "cell_type": "markdown",
   "metadata": {},
   "source": [
    "#### check for locations not geolocated\n"
   ]
  },
  {
   "cell_type": "code",
   "execution_count": null,
   "metadata": {},
   "outputs": [],
   "source": [
    "df[df.Clng<=0]\n"
   ]
  },
  {
   "cell_type": "code",
   "execution_count": null,
   "metadata": {},
   "outputs": [],
   "source": [
    "df[df.Clat<=0]\n"
   ]
  },
  {
   "cell_type": "code",
   "execution_count": null,
   "metadata": {},
   "outputs": [],
   "source": [
    "df[df.Clng>=0]\n"
   ]
  },
  {
   "cell_type": "code",
   "execution_count": null,
   "metadata": {},
   "outputs": [],
   "source": [
    "df[df.Clat>=0]\n"
   ]
  },
  {
   "cell_type": "code",
   "execution_count": null,
   "metadata": {},
   "outputs": [],
   "source": [
    "df[df.Olng<=0]\n"
   ]
  },
  {
   "cell_type": "code",
   "execution_count": null,
   "metadata": {},
   "outputs": [],
   "source": [
    "df[df.Olat<=0]\n"
   ]
  },
  {
   "cell_type": "code",
   "execution_count": null,
   "metadata": {},
   "outputs": [],
   "source": [
    "df[df.Olng>=0]\n"
   ]
  },
  {
   "cell_type": "code",
   "execution_count": null,
   "metadata": {},
   "outputs": [],
   "source": [
    "df[df.Olat>=0]"
   ]
  },
  {
   "cell_type": "markdown",
   "metadata": {},
   "source": [
    "#### drop the unmapped rows\n"
   ]
  },
  {
   "cell_type": "code",
   "execution_count": null,
   "metadata": {},
   "outputs": [],
   "source": [
    "\n",
    "df = df[df.Olng!=0]\n",
    "df = df[df.Clng!=-2.49020920207643]\n",
    "df = df.reset_index().drop(columns=['index'])"
   ]
  },
  {
   "cell_type": "code",
   "execution_count": null,
   "metadata": {},
   "outputs": [],
   "source": [
    "df = df[df.Olat!=5]\n",
    "df = df.reset_index().drop(columns=['index'])"
   ]
  },
  {
   "cell_type": "markdown",
   "metadata": {},
   "source": [
    "## Query Data"
   ]
  },
  {
   "cell_type": "markdown",
   "metadata": {},
   "source": []
  },
  {
   "cell_type": "code",
   "execution_count": null,
   "metadata": {},
   "outputs": [],
   "source": [
    "list(df)"
   ]
  },
  {
   "cell_type": "code",
   "execution_count": null,
   "metadata": {},
   "outputs": [],
   "source": [
    "q = 'SELECT count(*), \"How old are you?\" FROM df group by \"How old are you?\"'\n",
    "\n",
    "sqldf(q, globals())"
   ]
  },
  {
   "cell_type": "code",
   "execution_count": null,
   "metadata": {},
   "outputs": [],
   "source": [
    "df.loc[(df[\"How old are you?\"] == '`20')]\n",
    "df[\"How old are you?\"] = df[\"How old are you?\"].replace(['`20'],'20')"
   ]
  },
  {
   "cell_type": "code",
   "execution_count": null,
   "metadata": {},
   "outputs": [],
   "source": [
    "df[\"How old are you?\"] = df[\"How old are you?\"].replace(['54 years'],'54')"
   ]
  },
  {
   "cell_type": "code",
   "execution_count": null,
   "metadata": {},
   "outputs": [],
   "source": [
    "q = 'SELECT SUM(CASE WHEN \"How old are you?\" < 18 THEN 1 ELSE 0 END ) AS [UNDER 18],SUM(CASE WHEN \"How old are you?\" BETWEEN 18 AND 24 THEN 1 ELSE 0 END ) AS [18-24],SUM(CASE WHEN \"How old are you?\" BETWEEN 25 AND 34 THEN 1 ELSE 0 END ) AS [25-34] ,SUM(CASE WHEN \"How old are you?\" BETWEEN 35 AND 54 THEN 1 ELSE 0 END ) AS [35-54] ,SUM(CASE WHEN \"How old are you?\" BETWEEN 55 AND 64 THEN 1 ELSE 0 END ) AS [55-64] ,SUM(CASE WHEN \"How old are you?\" > 64 THEN 1 ELSE 0 END ) AS [OVER 65], SUM(CASE WHEN \"How old are you?\" LIKE NULL THEN 1 ELSE 0 END ) AS [NULL] FROM df'\n",
    "\n",
    "sqldf(q, globals())"
   ]
  },
  {
   "cell_type": "code",
   "execution_count": null,
   "metadata": {},
   "outputs": [],
   "source": [
    "q = 'SELECT count(*), \"Have you taken the Covid-19 vaccine?\" FROM df group by\"Have you taken the Covid-19 vaccine?\"  '\n",
    "\n",
    "sqldf(q, globals())"
   ]
  },
  {
   "cell_type": "code",
   "execution_count": null,
   "metadata": {},
   "outputs": [],
   "source": [
    "q = 'SELECT count(*), \"What is your main source of trusted news and/or information? - Selected Choice - News channels, eg. eNCA\" as \"News\" FROM df group by \"What is your main source of trusted news and/or information? - Selected Choice - News channels, eg. eNCA\"  '\n",
    "\n",
    "sqldf(q, globals())"
   ]
  },
  {
   "cell_type": "code",
   "execution_count": null,
   "metadata": {},
   "outputs": [],
   "source": [
    "q = 'SELECT  \"What is your highest level of education? - Selected Choice\", count(*) FROM df group by \"What is your highest level of education? - Selected Choice\"'\n",
    "\n",
    "sqldf(q, globals())"
   ]
  },
  {
   "cell_type": "code",
   "execution_count": null,
   "metadata": {},
   "outputs": [],
   "source": [
    "q = 'SELECT  \"What is your highest level of education? - Other - Text\", count(*) FROM df group by \"What is your highest level of education? - Other - Text\"'\n",
    "\n",
    "sqldf(q, globals())"
   ]
  },
  {
   "cell_type": "code",
   "execution_count": null,
   "metadata": {},
   "outputs": [],
   "source": [
    "df[\"What is your highest level of education? - Other - Text\"] = df[\"What is your highest level of education? - Other - Text\"].replace(['54 years'],'54')"
   ]
  },
  {
   "cell_type": "code",
   "execution_count": null,
   "metadata": {},
   "outputs": [],
   "source": [
    "df.to_excel('D:/2022/October 2022/Data/all.xlsx')"
   ]
  },
  {
   "cell_type": "markdown",
   "metadata": {},
   "source": [
    "## Statistical Analysis"
   ]
  },
  {
   "cell_type": "code",
   "execution_count": null,
   "metadata": {},
   "outputs": [],
   "source": [
    "#%pip install sodapy\n",
    "from sodapy import Socrata\n",
    "# for basemaps\n",
    "import contextily as ctx\n",
    "# For spatial statistics\n",
    "import esda\n",
    "from esda.moran import Moran, Moran_Local\n",
    "import splot\n",
    "from splot.esda import moran_scatterplot, plot_moran, lisa_cluster,plot_moran_simulation\n",
    "import libpysal as lps\n",
    "# Graphics\n",
    "import plotly.express as px\n"
   ]
  },
  {
   "cell_type": "code",
   "execution_count": null,
   "metadata": {},
   "outputs": [],
   "source": [
    "# province data\n",
    "gdf = gpd.read_file('D:/2022/Research Assignment/August 2022/Data/provinces.shp')"
   ]
  },
  {
   "cell_type": "code",
   "execution_count": null,
   "metadata": {},
   "outputs": [],
   "source": [
    "# show first 5 rows\n",
    "gdf.head()"
   ]
  },
  {
   "cell_type": "code",
   "execution_count": null,
   "metadata": {},
   "outputs": [],
   "source": [
    "# show columns and data types\n",
    "gdf.info()"
   ]
  },
  {
   "cell_type": "code",
   "execution_count": null,
   "metadata": {},
   "outputs": [],
   "source": [
    "# get the layers into a web mercator projection\n",
    "# reproject to web mercator\n",
    "gdf = gdf.to_crs(epsg=4326)"
   ]
  }
 ],
 "metadata": {
  "kernelspec": {
   "display_name": "Python 3.9.13 64-bit (microsoft store)",
   "language": "python",
   "name": "python3"
  },
  "language_info": {
   "codemirror_mode": {
    "name": "ipython",
    "version": 3
   },
   "file_extension": ".py",
   "mimetype": "text/x-python",
   "name": "python",
   "nbconvert_exporter": "python",
   "pygments_lexer": "ipython3",
   "version": "3.9.13"
  },
  "orig_nbformat": 4,
  "vscode": {
   "interpreter": {
    "hash": "6265675e0fe55307bbe3e93575194ef8bf51ff8c9e52265410743ef0d8b9757c"
   }
  }
 },
 "nbformat": 4,
 "nbformat_minor": 2
}
